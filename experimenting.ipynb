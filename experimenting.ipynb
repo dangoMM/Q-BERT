{
 "cells": [
  {
   "cell_type": "code",
   "execution_count": 1,
   "metadata": {},
   "outputs": [],
   "source": [
    "import json\n",
    "\n",
    "f=open(\"qbert/extraction/data/cleaned_qa_dev.json\")\n",
    "content = json.load(f)"
   ]
  },
  {
   "cell_type": "code",
   "execution_count": 4,
   "metadata": {},
   "outputs": [
    {
     "data": {
      "text/plain": [
       "951"
      ]
     },
     "execution_count": 4,
     "metadata": {},
     "output_type": "execute_result"
    }
   ],
   "source": [
    "# first data is zork1\n",
    "zork1 = content[\"data\"][0]\n",
    "len(zork1[\"paragraphs\"])"
   ]
  },
  {
   "cell_type": "code",
   "execution_count": 5,
   "metadata": {},
   "outputs": [
    {
     "data": {
      "text/plain": [
       "{'context': '[loc] forest this is a forest, with trees in all directions. to the east, there appears to be sunlight.   [inv] you are carrying:   a pile of leaves   [obs] forest   [atr] talkable, seen, lieable, enterable, nodwarf, indoors, visited, handed, lockable, surface, thing, water_room, unlock, lost, afflicted, is_treasure, converse, mentioned, male, npcworn, no_article, relevant, scored, queryable, town, pluggable, happy, is_followable, legible, multitude, burning, room, clothing, underneath, ward_area, little, intact, animate, bled_in, supporter, readable, openable, near, nonlocal, door, plugged, sittable, toolbit, vehicle, light, lens_searchable, open, familiar, is_scroll, aimable, takeable, static, unique, concealed, vowelstart, alcoholic, bodypart, general, is_spell, full, dry_land, pushable, known, proper, inside, clean, ambiguously_plural, container, edible, treasure, can_plug, weapon, is_arrow, insubstantial, pluralname, transparent, is_coin, air_room, scenery, on, is_spell_book, burnt, burnable, auto_searched, locked, switchable, absent, rockable, beenunlocked, progressing, severed, worn, windy, stone, random, neuter, legible, female, asleep, wiped',\n",
       " 'qas': [{'answers': [{'answer_start': 6, 'text': 'forest'}],\n",
       "   'question': 'Where am I located?',\n",
       "   'id': 'f82d6346947111eaa1e2000d3a4f608c',\n",
       "   'is_impossible': False},\n",
       "  {'answers': [{'answer_start': 36, 'text': 'trees'}],\n",
       "   'question': 'What is here?',\n",
       "   'id': 'f82d6347947111eaa1e2000d3a4f608c',\n",
       "   'is_impossible': False},\n",
       "  {'answers': [{'answer_start': 142, 'text': 'leaves'}],\n",
       "   'question': 'Which objects are in my inventory?',\n",
       "   'id': 'f82d6348947111eaa1e2000d3a4f608c',\n",
       "   'is_impossible': False}]}"
      ]
     },
     "execution_count": 5,
     "metadata": {},
     "output_type": "execute_result"
    }
   ],
   "source": [
    "zork1[\"paragraphs\"][543]"
   ]
  }
 ],
 "metadata": {
  "kernelspec": {
   "display_name": "Python 3",
   "language": "python",
   "name": "python3"
  },
  "language_info": {
   "codemirror_mode": {
    "name": "ipython",
    "version": 3
   },
   "file_extension": ".py",
   "mimetype": "text/x-python",
   "name": "python",
   "nbconvert_exporter": "python",
   "pygments_lexer": "ipython3",
   "version": "3.10.12"
  },
  "orig_nbformat": 4,
  "vscode": {
   "interpreter": {
    "hash": "916dbcbb3f70747c44a77c7bcd40155683ae19c65e1c03b4aa3499c5328201f1"
   }
  }
 },
 "nbformat": 4,
 "nbformat_minor": 2
}
